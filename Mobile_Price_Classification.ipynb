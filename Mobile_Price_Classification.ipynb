{
  "cells": [
    {
      "cell_type": "markdown",
      "metadata": {
        "id": "view-in-github",
        "colab_type": "text"
      },
      "source": [
        "<a href=\"https://colab.research.google.com/github/prasanna-venkatesh-m/mobile-price-range-classification/blob/NoPackages/Mobile_Price_Classification.ipynb\" target=\"_parent\"><img src=\"https://colab.research.google.com/assets/colab-badge.svg\" alt=\"Open In Colab\"/></a>"
      ]
    },
    {
      "cell_type": "code",
      "execution_count": 99,
      "metadata": {
        "id": "xXV8PPITCEfj"
      },
      "outputs": [],
      "source": [
        "import pandas as pd\n",
        "import numpy as np\n",
        "import matplotlib.pyplot as plt\n",
        "import seaborn as sns\n",
        "from sklearn.preprocessing import StandardScaler, OneHotEncoder\n",
        "from sklearn.model_selection import train_test_split\n",
        "from sklearn.metrics import accuracy_score, confusion_matrix, classification_report"
      ]
    },
    {
      "cell_type": "code",
      "execution_count": 100,
      "metadata": {
        "id": "X9jXDouJClbL"
      },
      "outputs": [],
      "source": [
        "df = pd.read_csv('/content/train.csv')"
      ]
    },
    {
      "cell_type": "code",
      "execution_count": 101,
      "metadata": {
        "id": "tk2z7CGcCtht"
      },
      "outputs": [],
      "source": [
        "columns = df.columns\n",
        "filtered_columns = columns.drop(['blue', 'dual_sim', 'four_g', 'talk_time', 'three_g', 'touch_screen', 'wifi', 'price_range' ])"
      ]
    },
    {
      "cell_type": "code",
      "execution_count": 102,
      "metadata": {
        "colab": {
          "base_uri": "https://localhost:8080/"
        },
        "id": "KQ-FhWEGC8pn",
        "outputId": "4cd67794-b5ca-41e4-efc2-dc73daf70225"
      },
      "outputs": [
        {
          "output_type": "stream",
          "name": "stdout",
          "text": [
            "   battery_power  blue  clock_speed  ...  touch_screen  wifi  price_range\n",
            "0      -0.902597     0     0.830779  ...             0     1            1\n",
            "1      -0.495139     1    -1.253064  ...             1     0            2\n",
            "2      -1.537686     1    -1.253064  ...             1     0            2\n",
            "3      -1.419319     1     1.198517  ...             0     0            2\n",
            "4       1.325906     1    -0.395011  ...             1     0            1\n",
            "\n",
            "[5 rows x 21 columns]\n"
          ]
        }
      ],
      "source": [
        "scaler = StandardScaler()\n",
        "scaled_data = df.copy()\n",
        "scaled_data[filtered_columns] = scaler.fit_transform(scaled_data[filtered_columns])\n",
        "print(scaled_data.head())"
      ]
    },
    {
      "cell_type": "code",
      "execution_count": 103,
      "metadata": {
        "id": "b2txYdc1Dc04"
      },
      "outputs": [],
      "source": [
        "X = scaled_data.drop(columns=['price_range'])\n",
        "y = scaled_data['price_range']"
      ]
    },
    {
      "cell_type": "code",
      "execution_count": 104,
      "metadata": {
        "id": "0aQ6bVfvDkxD"
      },
      "outputs": [],
      "source": [
        "def softmax(z):\n",
        "  ez = np.exp(z)\n",
        "  sm = ez / np.sum(ez, axis=1, keepdims=True)\n",
        "  return sm"
      ]
    },
    {
      "cell_type": "code",
      "execution_count": 145,
      "metadata": {
        "id": "xqNZvLP4EDsQ"
      },
      "outputs": [],
      "source": [
        "def cross_entropy(y, y_pred):\n",
        "    epsilon = 1e-15  # small value to prevent log(0)\n",
        "    y_pred = np.clip(y_pred, epsilon, 1 - epsilon)\n",
        "    loss = -np.mean(np.sum(y * np.log(y_pred), axis=1))\n",
        "    return loss"
      ]
    },
    {
      "cell_type": "code",
      "execution_count": 106,
      "metadata": {
        "id": "jr972D9WEjyn"
      },
      "outputs": [],
      "source": [
        "def one_hot_encoding(y):\n",
        "  oe = OneHotEncoder()\n",
        "  y_encoded = oe.fit_transform(y.values.reshape(-1,1))\n",
        "  return y_encoded"
      ]
    },
    {
      "cell_type": "code",
      "execution_count": 147,
      "metadata": {
        "id": "p9NanDGtFC93"
      },
      "outputs": [],
      "source": [
        "def multi_classification(X, y, tmp_w, tmp_b, max_iter=1000, alpha_rate=0.01):\n",
        "    w = tmp_w\n",
        "    b = tmp_b\n",
        "    y_true = one_hot_encoding(y)\n",
        "    y_true = y_true.toarray()\n",
        "    cost_history = []\n",
        "\n",
        "    for i in range(max_iter):\n",
        "        z = np.dot(X, w) + b\n",
        "        y_pred = softmax(z)\n",
        "        cost = cross_entropy(y_true, y_pred)\n",
        "        cost_history.append(cost)\n",
        "\n",
        "        if i % 100 == 0:\n",
        "            print(f'For Iteration {i} cost is {cost}')\n",
        "\n",
        "        loss = y_pred - y_true\n",
        "        dj_dw = np.dot(X.T, loss) / len(X)\n",
        "        dj_db = np.sum(loss, axis=0) / len(X)\n",
        "\n",
        "        w = w - (alpha_rate * dj_dw)\n",
        "        b = b - (alpha_rate * dj_db)\n",
        "\n",
        "    return w, b, cost_history"
      ]
    },
    {
      "cell_type": "code",
      "source": [
        "def predict(X, w, b):\n",
        "  z = np.dot(X, w) + b\n",
        "  y_pred = softmax(z)\n",
        "  return np.argmax(y_pred, axis=1)"
      ],
      "metadata": {
        "id": "SCiGKKmYZqpB"
      },
      "execution_count": 152,
      "outputs": []
    },
    {
      "cell_type": "code",
      "execution_count": 108,
      "metadata": {
        "id": "2QunFuCsGfQc"
      },
      "outputs": [],
      "source": [
        "X_train, X_val, y_train, y_val = train_test_split(X, y, test_size = 0.3)"
      ]
    },
    {
      "cell_type": "code",
      "execution_count": 109,
      "metadata": {
        "colab": {
          "base_uri": "https://localhost:8080/"
        },
        "id": "s0qN_qA7HOYm",
        "outputId": "f25209d9-a908-482d-c3f6-2a3c58da58c3"
      },
      "outputs": [
        {
          "output_type": "stream",
          "name": "stdout",
          "text": [
            "20\n",
            "4\n"
          ]
        }
      ],
      "source": [
        "print(X_train.shape[1])\n",
        "print(len(y_train.unique()))"
      ]
    },
    {
      "cell_type": "code",
      "execution_count": 148,
      "metadata": {
        "colab": {
          "base_uri": "https://localhost:8080/"
        },
        "id": "C0cnQi_xGU9Q",
        "outputId": "3690659e-f79d-4faa-deb8-20fd999927f8"
      },
      "outputs": [
        {
          "output_type": "stream",
          "name": "stdout",
          "text": [
            "For Iteration 0 cost is 3.6279497095994975\n",
            "For Iteration 100 cost is 1.5005867200363212\n",
            "For Iteration 200 cost is 1.2819998499263818\n",
            "For Iteration 300 cost is 1.1382128986523692\n",
            "For Iteration 400 cost is 1.0397111096380147\n",
            "For Iteration 500 cost is 0.9690094977165762\n",
            "For Iteration 600 cost is 0.9159259174910541\n",
            "For Iteration 700 cost is 0.8744227180242781\n",
            "For Iteration 800 cost is 0.8408226798357925\n",
            "For Iteration 900 cost is 0.8128178598264115\n",
            "For Iteration 1000 cost is 0.7889133845558965\n",
            "For Iteration 1100 cost is 0.7681099807229258\n",
            "For Iteration 1200 cost is 0.7497188890293331\n",
            "For Iteration 1300 cost is 0.7332513552346251\n",
            "For Iteration 1400 cost is 0.7183509835393984\n",
            "For Iteration 1500 cost is 0.7047512829117453\n",
            "For Iteration 1600 cost is 0.6922483685884202\n",
            "For Iteration 1700 cost is 0.6806829924101826\n",
            "For Iteration 1800 cost is 0.6699284448545932\n",
            "For Iteration 1900 cost is 0.6598822326195386\n",
            "For Iteration 2000 cost is 0.6504602341447269\n",
            "For Iteration 2100 cost is 0.6415925137281202\n",
            "For Iteration 2200 cost is 0.6332202670299623\n",
            "For Iteration 2300 cost is 0.6252935525498042\n",
            "For Iteration 2400 cost is 0.6177695788007418\n",
            "For Iteration 2500 cost is 0.6106113910619166\n",
            "For Iteration 2600 cost is 0.6037868501261519\n",
            "For Iteration 2700 cost is 0.5972678277232778\n",
            "For Iteration 2800 cost is 0.5910295650724025\n",
            "For Iteration 2900 cost is 0.5850501559269866\n",
            "For Iteration 3000 cost is 0.5793101258355057\n",
            "For Iteration 3100 cost is 0.5737920866387726\n",
            "For Iteration 3200 cost is 0.5684804504375951\n",
            "For Iteration 3300 cost is 0.5633611910369523\n",
            "For Iteration 3400 cost is 0.5584216436381791\n",
            "For Iteration 3500 cost is 0.5536503356025679\n",
            "For Iteration 3600 cost is 0.5490368426501734\n",
            "For Iteration 3700 cost is 0.544571666026764\n",
            "For Iteration 3800 cost is 0.5402461270685198\n",
            "For Iteration 3900 cost is 0.5360522762884238\n",
            "For Iteration 4000 cost is 0.5319828146509017\n",
            "For Iteration 4100 cost is 0.5280310251288708\n",
            "For Iteration 4200 cost is 0.5241907129769842\n",
            "For Iteration 4300 cost is 0.5204561534265928\n",
            "For Iteration 4400 cost is 0.5168220457268179\n",
            "For Iteration 4500 cost is 0.5132834726335438\n",
            "For Iteration 4600 cost is 0.5098358645927943\n",
            "For Iteration 4700 cost is 0.5064749679835407\n",
            "For Iteration 4800 cost is 0.5031968168827031\n",
            "For Iteration 4900 cost is 0.49999770789600656\n",
            "For Iteration 5000 cost is 0.49687417766564\n",
            "For Iteration 5100 cost is 0.4938229827218653\n",
            "For Iteration 5200 cost is 0.49084108139284416\n",
            "For Iteration 5300 cost is 0.4879256175266265\n",
            "For Iteration 5400 cost is 0.4850739058127581\n",
            "For Iteration 5500 cost is 0.4822834185193736\n",
            "For Iteration 5600 cost is 0.47955177348581285\n",
            "For Iteration 5700 cost is 0.47687672323141506\n",
            "For Iteration 5800 cost is 0.4742561450587919\n",
            "For Iteration 5900 cost is 0.47168803204502835\n",
            "For Iteration 6000 cost is 0.4691704848272983\n",
            "For Iteration 6100 cost is 0.46670170410062767\n",
            "For Iteration 6200 cost is 0.4642799837552801\n",
            "For Iteration 6300 cost is 0.461903704589678\n",
            "For Iteration 6400 cost is 0.45957132854211946\n",
            "For Iteration 6500 cost is 0.4572813933909473\n",
            "For Iteration 6600 cost is 0.45503250787842203\n",
            "For Iteration 6700 cost is 0.4528233472184372\n",
            "For Iteration 6800 cost is 0.45065264895251417\n",
            "For Iteration 6900 cost is 0.4485192091222898\n",
            "For Iteration 7000 cost is 0.4464218787300248\n",
            "For Iteration 7100 cost is 0.44435956046160935\n",
            "For Iteration 7200 cost is 0.4423312056491234\n",
            "For Iteration 7300 cost is 0.44033581145231715\n",
            "For Iteration 7400 cost is 0.4383724182404083\n",
            "For Iteration 7500 cost is 0.4364401071574148\n",
            "For Iteration 7600 cost is 0.4345379978558472\n",
            "For Iteration 7700 cost is 0.4326652463850271\n",
            "For Iteration 7800 cost is 0.43082104322159004\n",
            "For Iteration 7900 cost is 0.4290046114308708\n",
            "For Iteration 8000 cost is 0.427215204948908\n",
            "For Iteration 8100 cost is 0.4254521069757274\n",
            "For Iteration 8200 cost is 0.4237146284713934\n",
            "For Iteration 8300 cost is 0.4220021067470671\n",
            "For Iteration 8400 cost is 0.42031390414398223\n",
            "For Iteration 8500 cost is 0.41864940679385865\n",
            "For Iteration 8600 cost is 0.41700802345482274\n",
            "For Iteration 8700 cost is 0.4153891844174006\n",
            "For Iteration 8800 cost is 0.4137923404755957\n",
            "For Iteration 8900 cost is 0.41221696195848073\n",
            "For Iteration 9000 cost is 0.4106625378180898\n",
            "For Iteration 9100 cost is 0.40912857476974557\n",
            "For Iteration 9200 cost is 0.40761459648125425\n",
            "For Iteration 9300 cost is 0.4061201428076868\n",
            "For Iteration 9400 cost is 0.4046447690687108\n",
            "For Iteration 9500 cost is 0.40318804536567465\n",
            "For Iteration 9600 cost is 0.40174955593586176\n",
            "For Iteration 9700 cost is 0.40032889854151443\n",
            "For Iteration 9800 cost is 0.39892568389141453\n",
            "For Iteration 9900 cost is 0.39753953509297013\n"
          ]
        }
      ],
      "source": [
        "w,b, cost = multi_classification(X_train, y_train, np.random.rand(20,4), np.random.rand(1,4), 10000, 0.01 )"
      ]
    },
    {
      "cell_type": "code",
      "execution_count": 153,
      "metadata": {
        "id": "2Qojf-5ALwmY",
        "colab": {
          "base_uri": "https://localhost:8080/"
        },
        "outputId": "89e02cc8-bcaf-4cd2-a8d4-78499ea2393e"
      },
      "outputs": [
        {
          "output_type": "stream",
          "name": "stdout",
          "text": [
            "[0 3 1 ... 2 0 2]\n"
          ]
        }
      ],
      "source": [
        "y_train_pred = predict(X_train, w, b)\n",
        "print(y_train_pred)"
      ]
    },
    {
      "cell_type": "code",
      "source": [
        "print(accuracy_score(y_train_pred, y_train))"
      ],
      "metadata": {
        "colab": {
          "base_uri": "https://localhost:8080/"
        },
        "id": "-N-pc9AlaIFH",
        "outputId": "d90ca06b-2675-4790-b9a6-4acd16e012cb"
      },
      "execution_count": 154,
      "outputs": [
        {
          "output_type": "stream",
          "name": "stdout",
          "text": [
            "0.9214285714285714\n"
          ]
        }
      ]
    },
    {
      "cell_type": "code",
      "source": [],
      "metadata": {
        "id": "ib55D9rLazeV"
      },
      "execution_count": null,
      "outputs": []
    }
  ],
  "metadata": {
    "colab": {
      "provenance": [],
      "authorship_tag": "ABX9TyOQ1P8dwF0Gygaw2TxCRx3C",
      "include_colab_link": true
    },
    "kernelspec": {
      "display_name": "Python 3",
      "name": "python3"
    },
    "language_info": {
      "name": "python"
    }
  },
  "nbformat": 4,
  "nbformat_minor": 0
}